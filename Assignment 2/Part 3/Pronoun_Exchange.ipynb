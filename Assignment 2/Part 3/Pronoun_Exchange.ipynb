{
 "cells": [
  {
   "cell_type": "code",
   "execution_count": 1,
   "id": "08d61642",
   "metadata": {},
   "outputs": [],
   "source": [
    "import pandas as pd\n",
    "import spacy"
   ]
  },
  {
   "cell_type": "code",
   "execution_count": 2,
   "id": "e409edde",
   "metadata": {},
   "outputs": [],
   "source": [
    "df=pd.read_csv(\"pronoun_testcases.csv\")"
   ]
  },
  {
   "cell_type": "code",
   "execution_count": 3,
   "id": "d76400af",
   "metadata": {},
   "outputs": [
    {
     "name": "stdout",
     "output_type": "stream",
     "text": [
      "                   input_text target_gender              expected_output\n",
      "0  He is going to the market.        female  She is going to the market.\n",
      "1   His book is on the table.        female    Her book is on the table.\n",
      "2        I saw him yesterday.        female         I saw her yesterday.\n",
      "3            He hurt himself.        female            She hurt herself.\n",
      "4    I called him last night.        female     I called her last night.\n"
     ]
    }
   ],
   "source": [
    "print(df.head())\n"
   ]
  },
  {
   "cell_type": "code",
   "execution_count": 4,
   "id": "40b276fe",
   "metadata": {},
   "outputs": [],
   "source": [
    "nlp = spacy.load(\"en_core_web_sm\")\n",
    "\n",
    "def exchange_pronouns(text, target_gender):\n",
    "    doc = nlp(text)\n",
    "    \n",
    "    replacements = []\n",
    "    \n",
    "    for token in doc:\n",
    "        original_text = token.text\n",
    "        replacement = None\n",
    "        \n",
    "        pos = token.pos_\n",
    "        dep = token.dep_\n",
    "        \n",
    "        if target_gender.lower() == 'female':\n",
    "            if original_text.lower() == 'he':\n",
    "                replacement = 'She' if original_text[0].isupper() else 'she'\n",
    "            elif original_text.lower() == 'him':\n",
    "                replacement = 'Her' if original_text[0].isupper() else 'her'\n",
    "            elif original_text.lower() == 'his':\n",
    "                replacement = 'Her' if original_text[0].isupper() else 'her'\n",
    "            elif original_text.lower() == 'himself':\n",
    "                replacement = 'Herself' if original_text[0].isupper() else 'herself'\n",
    "                \n",
    "        elif target_gender.lower() == 'male':\n",
    "            if original_text.lower() == 'she':\n",
    "                replacement = 'He' if original_text[0].isupper() else 'he'\n",
    "            elif original_text.lower() == 'her':\n",
    "                if dep == 'poss' or pos == 'PRON' and dep == 'nmod':\n",
    "                    replacement = 'His' if original_text[0].isupper() else 'his'\n",
    "                else:\n",
    "                    replacement = 'Him' if original_text[0].isupper() else 'him'\n",
    "            elif original_text.lower() == 'hers':\n",
    "                replacement = 'His' if original_text[0].isupper() else 'his'\n",
    "            elif original_text.lower() == 'herself':\n",
    "                replacement = 'Himself' if original_text[0].isupper() else 'himself'\n",
    "        \n",
    "        if replacement:\n",
    "            replacements.append((token.idx, token.idx + len(token.text), replacement))\n",
    "    \n",
    "    result = text\n",
    "    for start, end, replacement in reversed(replacements):\n",
    "        result = result[:start] + replacement + result[end:]\n",
    "    \n",
    "    return result"
   ]
  },
  {
   "cell_type": "code",
   "execution_count": 5,
   "id": "3c1b59de",
   "metadata": {},
   "outputs": [
    {
     "name": "stdout",
     "output_type": "stream",
     "text": [
      " Accuracy: 26/26 = 100.00%\n",
      "\n",
      " Some correct transformations\n",
      "  'He is going to the market.' : 'She is going to the market.'\n",
      "  'His book is on the table.' : 'Her book is on the table.'\n",
      "  'I saw him yesterday.' : 'I saw her yesterday.'\n",
      "  'He hurt himself.' : 'She hurt herself.'\n",
      "  'I called him last night.' : 'I called her last night.'\n",
      "\n",
      " Random Sample\n",
      "Input: 'That is her car.'\n",
      "Output: 'That is his car.'\n",
      "\n",
      " Token Analysis:\n",
      "Token: 'That', POS: PRON, Dep: nsubj\n",
      "Token: 'is', POS: AUX, Dep: ROOT\n",
      "Token: 'her', POS: PRON, Dep: poss\n",
      "Token: 'car', POS: NOUN, Dep: attr\n",
      "Token: '.', POS: PUNCT, Dep: punct\n"
     ]
    }
   ],
   "source": [
    "df['predicted_output'] = df.apply(lambda row: exchange_pronouns(row['input_text'], row['target_gender']), axis=1)\n",
    "\n",
    "correct = 0\n",
    "total = len(df)\n",
    "\n",
    "for i, row in df.iterrows():\n",
    "    is_correct = row['predicted_output'] == row['expected_output']\n",
    "    if is_correct:\n",
    "        correct += 1\n",
    "    else:\n",
    "        print(f\"  Test {i+1} Failed\")\n",
    "\n",
    "print(f\" Accuracy: {correct}/{total} = {correct/total:.2%}\")\n",
    "\n",
    "print(\"\\n Some correct transformations\")\n",
    "successful_cases = df[df['predicted_output'] == df['expected_output']].head(5)\n",
    "for i, row in successful_cases.iterrows():\n",
    "    print(f\"  '{row['input_text']}' : '{row['predicted_output']}'\")\n",
    "\n",
    "# Taking a random sample from the dataset\n",
    "import random\n",
    "random_idx = random.randint(0, len(df)-1)\n",
    "sample_row = df.iloc[random_idx]\n",
    "\n",
    "print(f'\\n Random Sample')\n",
    "print(f\"Input: '{sample_row['input_text']}'\")\n",
    "print(f\"Output: '{sample_row['predicted_output']}'\")\n",
    "print(\"\\n Token Analysis:\")\n",
    "\n",
    "doc = nlp(sample_row['input_text'])\n",
    "for token in doc:\n",
    "    print(f\"Token: '{token.text}', POS: {token.pos_}, Dep: {token.dep_}\")"
   ]
  }
 ],
 "metadata": {
  "kernelspec": {
   "display_name": "Python 3",
   "language": "python",
   "name": "python3"
  },
  "language_info": {
   "codemirror_mode": {
    "name": "ipython",
    "version": 3
   },
   "file_extension": ".py",
   "mimetype": "text/x-python",
   "name": "python",
   "nbconvert_exporter": "python",
   "pygments_lexer": "ipython3",
   "version": "3.12.6"
  }
 },
 "nbformat": 4,
 "nbformat_minor": 5
}
