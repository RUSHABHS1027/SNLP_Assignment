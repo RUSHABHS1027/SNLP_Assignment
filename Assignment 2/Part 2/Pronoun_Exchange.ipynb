{
 "cells": [
  {
   "cell_type": "code",
   "execution_count": 13,
   "id": "b1425b25",
   "metadata": {},
   "outputs": [
    {
     "name": "stdout",
     "output_type": "stream",
     "text": [
      "Requirement already satisfied: spacy in c:\\users\\rushabh\\appdata\\local\\programs\\python\\python312\\lib\\site-packages (3.8.4)\n",
      "Requirement already satisfied: spacy-legacy<3.1.0,>=3.0.11 in c:\\users\\rushabh\\appdata\\local\\programs\\python\\python312\\lib\\site-packages (from spacy) (3.0.12)\n",
      "Requirement already satisfied: spacy-loggers<2.0.0,>=1.0.0 in c:\\users\\rushabh\\appdata\\local\\programs\\python\\python312\\lib\\site-packages (from spacy) (1.0.5)\n",
      "Requirement already satisfied: murmurhash<1.1.0,>=0.28.0 in c:\\users\\rushabh\\appdata\\local\\programs\\python\\python312\\lib\\site-packages (from spacy) (1.0.12)\n",
      "Requirement already satisfied: cymem<2.1.0,>=2.0.2 in c:\\users\\rushabh\\appdata\\local\\programs\\python\\python312\\lib\\site-packages (from spacy) (2.0.11)\n",
      "Requirement already satisfied: preshed<3.1.0,>=3.0.2 in c:\\users\\rushabh\\appdata\\local\\programs\\python\\python312\\lib\\site-packages (from spacy) (3.0.9)\n",
      "Requirement already satisfied: thinc<8.4.0,>=8.3.4 in c:\\users\\rushabh\\appdata\\local\\programs\\python\\python312\\lib\\site-packages (from spacy) (8.3.4)\n",
      "Requirement already satisfied: wasabi<1.2.0,>=0.9.1 in c:\\users\\rushabh\\appdata\\local\\programs\\python\\python312\\lib\\site-packages (from spacy) (1.1.3)\n",
      "Requirement already satisfied: srsly<3.0.0,>=2.4.3 in c:\\users\\rushabh\\appdata\\local\\programs\\python\\python312\\lib\\site-packages (from spacy) (2.5.1)\n",
      "Requirement already satisfied: catalogue<2.1.0,>=2.0.6 in c:\\users\\rushabh\\appdata\\local\\programs\\python\\python312\\lib\\site-packages (from spacy) (2.0.10)\n",
      "Requirement already satisfied: weasel<0.5.0,>=0.1.0 in c:\\users\\rushabh\\appdata\\local\\programs\\python\\python312\\lib\\site-packages (from spacy) (0.4.1)\n",
      "Requirement already satisfied: typer<1.0.0,>=0.3.0 in c:\\users\\rushabh\\appdata\\local\\programs\\python\\python312\\lib\\site-packages (from spacy) (0.15.1)\n",
      "Requirement already satisfied: tqdm<5.0.0,>=4.38.0 in c:\\users\\rushabh\\appdata\\local\\programs\\python\\python312\\lib\\site-packages (from spacy) (4.66.5)\n",
      "Requirement already satisfied: numpy>=1.19.0 in c:\\users\\rushabh\\appdata\\local\\programs\\python\\python312\\lib\\site-packages (from spacy) (1.26.4)\n",
      "Requirement already satisfied: requests<3.0.0,>=2.13.0 in c:\\users\\rushabh\\appdata\\local\\programs\\python\\python312\\lib\\site-packages (from spacy) (2.32.3)\n",
      "Requirement already satisfied: pydantic!=1.8,!=1.8.1,<3.0.0,>=1.7.4 in c:\\users\\rushabh\\appdata\\local\\programs\\python\\python312\\lib\\site-packages (from spacy) (2.10.6)\n",
      "Requirement already satisfied: jinja2 in c:\\users\\rushabh\\appdata\\local\\programs\\python\\python312\\lib\\site-packages (from spacy) (3.1.4)\n",
      "Requirement already satisfied: setuptools in c:\\users\\rushabh\\appdata\\local\\programs\\python\\python312\\lib\\site-packages (from spacy) (75.8.0)\n",
      "Requirement already satisfied: packaging>=20.0 in c:\\users\\rushabh\\appdata\\local\\programs\\python\\python312\\lib\\site-packages (from spacy) (24.2)\n",
      "Requirement already satisfied: langcodes<4.0.0,>=3.2.0 in c:\\users\\rushabh\\appdata\\local\\programs\\python\\python312\\lib\\site-packages (from spacy) (3.5.0)\n",
      "Requirement already satisfied: language-data>=1.2 in c:\\users\\rushabh\\appdata\\local\\programs\\python\\python312\\lib\\site-packages (from langcodes<4.0.0,>=3.2.0->spacy) (1.3.0)\n",
      "Requirement already satisfied: annotated-types>=0.6.0 in c:\\users\\rushabh\\appdata\\local\\programs\\python\\python312\\lib\\site-packages (from pydantic!=1.8,!=1.8.1,<3.0.0,>=1.7.4->spacy) (0.7.0)\n",
      "Requirement already satisfied: pydantic-core==2.27.2 in c:\\users\\rushabh\\appdata\\local\\programs\\python\\python312\\lib\\site-packages (from pydantic!=1.8,!=1.8.1,<3.0.0,>=1.7.4->spacy) (2.27.2)\n",
      "Requirement already satisfied: typing-extensions>=4.12.2 in c:\\users\\rushabh\\appdata\\local\\programs\\python\\python312\\lib\\site-packages (from pydantic!=1.8,!=1.8.1,<3.0.0,>=1.7.4->spacy) (4.12.2)\n",
      "Requirement already satisfied: charset-normalizer<4,>=2 in c:\\users\\rushabh\\appdata\\local\\programs\\python\\python312\\lib\\site-packages (from requests<3.0.0,>=2.13.0->spacy) (3.4.1)\n",
      "Requirement already satisfied: idna<4,>=2.5 in c:\\users\\rushabh\\appdata\\local\\programs\\python\\python312\\lib\\site-packages (from requests<3.0.0,>=2.13.0->spacy) (3.10)\n",
      "Requirement already satisfied: urllib3<3,>=1.21.1 in c:\\users\\rushabh\\appdata\\local\\programs\\python\\python312\\lib\\site-packages (from requests<3.0.0,>=2.13.0->spacy) (2.3.0)\n",
      "Requirement already satisfied: certifi>=2017.4.17 in c:\\users\\rushabh\\appdata\\local\\programs\\python\\python312\\lib\\site-packages (from requests<3.0.0,>=2.13.0->spacy) (2025.1.31)\n",
      "Requirement already satisfied: blis<1.3.0,>=1.2.0 in c:\\users\\rushabh\\appdata\\local\\programs\\python\\python312\\lib\\site-packages (from thinc<8.4.0,>=8.3.4->spacy) (1.2.0)\n",
      "Requirement already satisfied: confection<1.0.0,>=0.0.1 in c:\\users\\rushabh\\appdata\\local\\programs\\python\\python312\\lib\\site-packages (from thinc<8.4.0,>=8.3.4->spacy) (0.1.5)\n",
      "Requirement already satisfied: colorama in c:\\users\\rushabh\\appdata\\roaming\\python\\python312\\site-packages (from tqdm<5.0.0,>=4.38.0->spacy) (0.4.6)\n",
      "Requirement already satisfied: click>=8.0.0 in c:\\users\\rushabh\\appdata\\local\\programs\\python\\python312\\lib\\site-packages (from typer<1.0.0,>=0.3.0->spacy) (8.1.7)\n",
      "Requirement already satisfied: shellingham>=1.3.0 in c:\\users\\rushabh\\appdata\\local\\programs\\python\\python312\\lib\\site-packages (from typer<1.0.0,>=0.3.0->spacy) (1.5.4)\n",
      "Requirement already satisfied: rich>=10.11.0 in c:\\users\\rushabh\\appdata\\local\\programs\\python\\python312\\lib\\site-packages (from typer<1.0.0,>=0.3.0->spacy) (13.9.4)\n",
      "Requirement already satisfied: cloudpathlib<1.0.0,>=0.7.0 in c:\\users\\rushabh\\appdata\\local\\programs\\python\\python312\\lib\\site-packages (from weasel<0.5.0,>=0.1.0->spacy) (0.20.0)\n",
      "Requirement already satisfied: smart-open<8.0.0,>=5.2.1 in c:\\users\\rushabh\\appdata\\local\\programs\\python\\python312\\lib\\site-packages (from weasel<0.5.0,>=0.1.0->spacy) (7.1.0)\n",
      "Requirement already satisfied: MarkupSafe>=2.0 in c:\\users\\rushabh\\appdata\\local\\programs\\python\\python312\\lib\\site-packages (from jinja2->spacy) (3.0.2)\n",
      "Requirement already satisfied: marisa-trie>=1.1.0 in c:\\users\\rushabh\\appdata\\local\\programs\\python\\python312\\lib\\site-packages (from language-data>=1.2->langcodes<4.0.0,>=3.2.0->spacy) (1.2.1)\n",
      "Requirement already satisfied: markdown-it-py>=2.2.0 in c:\\users\\rushabh\\appdata\\local\\programs\\python\\python312\\lib\\site-packages (from rich>=10.11.0->typer<1.0.0,>=0.3.0->spacy) (3.0.0)\n",
      "Requirement already satisfied: pygments<3.0.0,>=2.13.0 in c:\\users\\rushabh\\appdata\\local\\programs\\python\\python312\\lib\\site-packages (from rich>=10.11.0->typer<1.0.0,>=0.3.0->spacy) (2.19.1)\n",
      "Requirement already satisfied: wrapt in c:\\users\\rushabh\\appdata\\local\\programs\\python\\python312\\lib\\site-packages (from smart-open<8.0.0,>=5.2.1->weasel<0.5.0,>=0.1.0->spacy) (1.17.2)\n",
      "Requirement already satisfied: mdurl~=0.1 in c:\\users\\rushabh\\appdata\\local\\programs\\python\\python312\\lib\\site-packages (from markdown-it-py>=2.2.0->rich>=10.11.0->typer<1.0.0,>=0.3.0->spacy) (0.1.2)\n"
     ]
    },
    {
     "name": "stderr",
     "output_type": "stream",
     "text": [
      "\n",
      "[notice] A new release of pip is available: 25.0.1 -> 25.1.1\n",
      "[notice] To update, run: python.exe -m pip install --upgrade pip\n"
     ]
    }
   ],
   "source": [
    "! pip install spacy"
   ]
  },
  {
   "cell_type": "code",
   "execution_count": 14,
   "id": "086b5e6a",
   "metadata": {},
   "outputs": [
    {
     "name": "stdout",
     "output_type": "stream",
     "text": [
      "Collecting en-core-web-sm==3.8.0\n",
      "  Downloading https://github.com/explosion/spacy-models/releases/download/en_core_web_sm-3.8.0/en_core_web_sm-3.8.0-py3-none-any.whl (12.8 MB)\n",
      "     ---------------------------------------- 0.0/12.8 MB ? eta -:--:--\n",
      "     -------------------- ------------------- 6.6/12.8 MB 33.6 MB/s eta 0:00:01\n",
      "     --------------------------------------- 12.8/12.8 MB 32.2 MB/s eta 0:00:00\n",
      "\u001b[38;5;2m✔ Download and installation successful\u001b[0m\n",
      "You can now load the package via spacy.load('en_core_web_sm')\n"
     ]
    },
    {
     "name": "stderr",
     "output_type": "stream",
     "text": [
      "\n",
      "[notice] A new release of pip is available: 25.0.1 -> 25.1.1\n",
      "[notice] To update, run: python.exe -m pip install --upgrade pip\n"
     ]
    }
   ],
   "source": [
    "! python -m spacy download en_core_web_sm"
   ]
  },
  {
   "cell_type": "code",
   "execution_count": 18,
   "id": "08d61642",
   "metadata": {},
   "outputs": [],
   "source": [
    "import pandas as pd"
   ]
  },
  {
   "cell_type": "code",
   "execution_count": 19,
   "id": "e409edde",
   "metadata": {},
   "outputs": [],
   "source": [
    "df=pd.read_csv(\"pronoun_testcases.csv\")"
   ]
  },
  {
   "cell_type": "code",
   "execution_count": 20,
   "id": "d76400af",
   "metadata": {},
   "outputs": [
    {
     "name": "stdout",
     "output_type": "stream",
     "text": [
      "                   input_text target_gender              expected_output\n",
      "0  He is going to the market.        female  She is going to the market.\n",
      "1   His book is on the table.        female    Her book is on the table.\n",
      "2        I saw him yesterday.        female         I saw her yesterday.\n",
      "3            He hurt himself.        female            She hurt herself.\n",
      "4    I called him last night.        female     I called her last night.\n"
     ]
    }
   ],
   "source": [
    "print(df.head())\n"
   ]
  },
  {
   "cell_type": "code",
   "execution_count": 24,
   "id": "40b276fe",
   "metadata": {},
   "outputs": [
    {
     "name": "stdout",
     "output_type": "stream",
     "text": [
      "Token: 'She', POS: PRON, Dep: nsubj, Head: gave\n",
      "Token: 'gave', POS: VERB, Dep: ROOT, Head: gave\n",
      "Token: 'him', POS: PRON, Dep: dative, Head: gave\n",
      "Token: 'her', POS: PRON, Dep: poss, Head: book\n",
      "Token: 'book', POS: NOUN, Dep: dobj, Head: gave\n",
      "Token: '.', POS: PUNCT, Dep: punct, Head: gave\n",
      "\n"
     ]
    }
   ],
   "source": [
    "import spacy\n",
    "\n",
    "# Load the English model\n",
    "nlp = spacy.load(\"en_core_web_sm\")\n",
    "\n",
    "def exchange_pronouns(text, target_gender):\n",
    "    doc = nlp(text)\n",
    "    \n",
    "    replacements = []\n",
    "    \n",
    "    for token in doc:\n",
    "        original_text = token.text\n",
    "        replacement = None\n",
    "        \n",
    "        pos = token.pos_\n",
    "        dep = token.dep_\n",
    "        \n",
    "        if target_gender.lower() == 'female':\n",
    "            if original_text.lower() == 'he':\n",
    "                replacement = 'She' if original_text[0].isupper() else 'she'\n",
    "            elif original_text.lower() == 'him':\n",
    "                replacement = 'Her' if original_text[0].isupper() else 'her'\n",
    "            elif original_text.lower() == 'his':\n",
    "                replacement = 'Her' if original_text[0].isupper() else 'her'\n",
    "            elif original_text.lower() == 'himself':\n",
    "                replacement = 'Herself' if original_text[0].isupper() else 'herself'\n",
    "                \n",
    "        elif target_gender.lower() == 'male':\n",
    "            if original_text.lower() == 'she':\n",
    "                replacement = 'He' if original_text[0].isupper() else 'he'\n",
    "            elif original_text.lower() == 'her':\n",
    "                if dep == 'poss' or pos == 'PRON' and dep == 'nmod':\n",
    "                    replacement = 'His' if original_text[0].isupper() else 'his'\n",
    "                else:\n",
    "                    replacement = 'Him' if original_text[0].isupper() else 'him'\n",
    "            elif original_text.lower() == 'hers':\n",
    "                replacement = 'His' if original_text[0].isupper() else 'his'\n",
    "            elif original_text.lower() == 'herself':\n",
    "                replacement = 'Himself' if original_text[0].isupper() else 'himself'\n",
    "        \n",
    "        if replacement:\n",
    "            replacements.append((token.idx, token.idx + len(token.text), replacement))\n",
    "    \n",
    "    result = text\n",
    "    for start, end, replacement in reversed(replacements):\n",
    "        result = result[:start] + replacement + result[end:]\n",
    "    \n",
    "    return result\n",
    "doc = nlp(\"She gave him her book.\")\n",
    "for token in doc:\n",
    "    print(f\"Token: '{token.text}', POS: {token.pos_}, Dep: {token.dep_}, Head: {token.head.text}\")\n",
    "print()"
   ]
  },
  {
   "cell_type": "code",
   "execution_count": 25,
   "id": "3c1b59de",
   "metadata": {},
   "outputs": [
    {
     "name": "stdout",
     "output_type": "stream",
     "text": [
      "Total test cases: 26\n",
      "\n",
      " Accuracy: 26/26 = 100.00%\n",
      "\n",
      " Sample successful transformations:\n",
      "  'He is going to the market.' : 'She is going to the market.'\n",
      "  'His book is on the table.' : 'Her book is on the table.'\n",
      "  'I saw him yesterday.' : 'I saw her yesterday.'\n",
      "  'He hurt himself.' : 'She hurt herself.'\n",
      "  'I called him last night.' : 'I called her last night.'\n",
      "\n",
      "🔍 Linguistic Analysis for Random Sample (Row 23):\n",
      "Input: 'She brought her laptop.'\n",
      "Output: 'He brought his laptop.'\n",
      "\n",
      "Token Analysis:\n",
      "Token: 'She', POS: PRON, Dep: nsubj, Head: brought\n",
      "Token: 'brought', POS: VERB, Dep: ROOT, Head: brought\n",
      "Token: 'her', POS: PRON, Dep: poss, Head: laptop\n",
      "Token: 'laptop', POS: NOUN, Dep: dobj, Head: brought\n",
      "Token: '.', POS: PUNCT, Dep: punct, Head: brought\n",
      "\n"
     ]
    }
   ],
   "source": [
    "df['predicted_output'] = df.apply(lambda row: exchange_pronouns(row['input_text'], row['target_gender']), axis=1)\n",
    "\n",
    "correct = 0\n",
    "total = len(df)\n",
    "\n",
    "print(f\"Total test cases: {total}\")\n",
    "print()\n",
    "\n",
    "for i, row in df.iterrows():\n",
    "    is_correct = row['predicted_output'] == row['expected_output']\n",
    "    if is_correct:\n",
    "        correct += 1\n",
    "    else:\n",
    "        print(f\"  Test {i+1} FAILED:\")\n",
    "        print(f\"   Input: '{row['input_text']}'\")\n",
    "        print(f\"   Target: {row['target_gender']}\")\n",
    "        print(f\"   Expected: '{row['expected_output']}'\")\n",
    "        print(f\"   Got: '{row['predicted_output']}'\")\n",
    "        print()\n",
    "\n",
    "print(f\" Accuracy: {correct}/{total} = {correct/total:.2%}\")\n",
    "\n",
    "print(\"\\n Sample successful transformations:\")\n",
    "successful_cases = df[df['predicted_output'] == df['expected_output']].head(5)\n",
    "for i, row in successful_cases.iterrows():\n",
    "    print(f\"  '{row['input_text']}' : '{row['predicted_output']}'\")\n",
    "\n",
    "# Linguistic analysis for a random sample\n",
    "import random\n",
    "random_idx = random.randint(0, len(df)-1)\n",
    "sample_row = df.iloc[random_idx]\n",
    "\n",
    "print(f\"\\n🔍 Linguistic Analysis for Random Sample (Row {random_idx + 1}):\")\n",
    "print(f\"Input: '{sample_row['input_text']}'\")\n",
    "print(f\"Output: '{sample_row['predicted_output']}'\")\n",
    "print(\"\\nToken Analysis:\")\n",
    "\n",
    "doc = nlp(sample_row['input_text'])\n",
    "for token in doc:\n",
    "    print(f\"Token: '{token.text}', POS: {token.pos_}, Dep: {token.dep_}, Head: {token.head.text}\")\n",
    "print()"
   ]
  },
  {
   "cell_type": "code",
   "execution_count": null,
   "id": "90c2e491",
   "metadata": {},
   "outputs": [],
   "source": []
  }
 ],
 "metadata": {
  "kernelspec": {
   "display_name": "Python 3",
   "language": "python",
   "name": "python3"
  },
  "language_info": {
   "codemirror_mode": {
    "name": "ipython",
    "version": 3
   },
   "file_extension": ".py",
   "mimetype": "text/x-python",
   "name": "python",
   "nbconvert_exporter": "python",
   "pygments_lexer": "ipython3",
   "version": "3.12.6"
  }
 },
 "nbformat": 4,
 "nbformat_minor": 5
}
