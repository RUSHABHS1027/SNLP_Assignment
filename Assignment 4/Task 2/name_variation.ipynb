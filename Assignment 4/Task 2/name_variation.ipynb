{
 "cells": [
  {
   "cell_type": "code",
   "execution_count": 1,
   "id": "f44837bf",
   "metadata": {},
   "outputs": [],
   "source": [
    "import re\n",
    "import pandas as pd\n",
    "from rapidfuzz import fuzz, process\n",
    "from sklearn.metrics import accuracy_score"
   ]
  },
  {
   "cell_type": "code",
   "execution_count": 2,
   "id": "7a02e9e5",
   "metadata": {},
   "outputs": [],
   "source": [
    "base = pd.read_csv(\"base_names.csv\")\n",
    "vari = pd.read_csv(\"name_variations.csv\")"
   ]
  },
  {
   "cell_type": "code",
   "execution_count": 3,
   "id": "66d9aa9e",
   "metadata": {},
   "outputs": [],
   "source": [
    "def normalize(n):\n",
    "    if pd.isna(n): \n",
    "        return \"\"\n",
    "    n = str(n).strip().lower()\n",
    "    if \",\" in n:\n",
    "        parts = [p.strip() for p in n.split(\",\", 1)]\n",
    "        if len(parts) == 2:\n",
    "            n = parts[1] + \" \" + parts[0]\n",
    "    n = re.sub(r\"[^a-z0-9\\s]\", \" \", n)\n",
    "    n = re.sub(r\"\\s+\", \" \", n).strip()\n",
    "    return n\n",
    "\n",
    "base[\"norm\"] = base[\"Base_Name\"].apply(normalize)\n",
    "vari[\"norm\"] = vari[\"Variation\"].apply(normalize)"
   ]
  },
  {
   "cell_type": "code",
   "execution_count": 4,
   "id": "2ec9af08",
   "metadata": {},
   "outputs": [],
   "source": [
    "rows = []\n",
    "for v_show, v_norm in zip(vari[\"Variation\"], vari[\"norm\"]):\n",
    "    candidates = process.extract(\n",
    "        v_norm,\n",
    "        base[\"norm\"].tolist(),\n",
    "        scorer=fuzz.token_set_ratio,\n",
    "        limit=3\n",
    "    )\n",
    "    if candidates:\n",
    "        best_norm, best_score, best_idx = candidates[0]\n",
    "        best_name = base.iloc[best_idx][\"Base_Name\"]\n",
    "    else:\n",
    "        best_name, best_score, candidates = \"No Match\", 0, []\n",
    "    \n",
    "    top_names = [base.iloc[idx][\"Base_Name\"] for (_, _, idx) in candidates]\n",
    "    top_scores = [score for (_, score, _) in candidates]\n",
    "\n",
    "    rows.append([v_show, best_name, best_score, top_names, top_scores])"
   ]
  },
  {
   "cell_type": "code",
   "execution_count": 5,
   "id": "eb5b36f2",
   "metadata": {},
   "outputs": [
    {
     "name": "stdout",
     "output_type": "stream",
     "text": [
      "       Variation     Best_Match  Best_Score  \\\n",
      "0   Thomas  King    Thomas King  100.000000   \n",
      "1     ThomasKing    Thomas King   57.142857   \n",
      "2   Maria Garcia   Maria Garcia  100.000000   \n",
      "3      MaryLewis     Mary Lewis   52.631579   \n",
      "4       Nancy W.   Nancy Wright   83.333333   \n",
      "5   Dani3l Scott   Daniel Scott   91.666667   \n",
      "6    JOHN  smith     John Smith  100.000000   \n",
      "7  linda johnson  Linda Johnson  100.000000   \n",
      "8   N@ncy Wright   Nancy Wright   91.666667   \n",
      "9  William Davis  William Davis  100.000000   \n",
      "\n",
      "                                       Top3_Names  \\\n",
      "0           [Thomas King, John Smith, Mary Lewis]   \n",
      "1    [Thomas King, Linda Johnson, David Martinez]   \n",
      "2      [Maria Garcia, David Martinez, Mary Lewis]   \n",
      "3    [Mary Lewis, Elizabeth Wilson, Maria Garcia]   \n",
      "4    [Nancy Wright, Paul Allen, Michael O'Connor]   \n",
      "5   [Daniel Scott, Jessica Adams, David Martinez]   \n",
      "6   [John Smith, Linda Johnson, Michael O'Connor]   \n",
      "7        [Linda Johnson, John Smith, Sandra Hill]   \n",
      "8    [Nancy Wright, John Smith, Michael O'Connor]   \n",
      "9  [William Davis, Jessica Adams, David Martinez]   \n",
      "\n",
      "                                         Top3_Scores  \n",
      "0    [100.0, 38.095238095238095, 38.095238095238095]  \n",
      "1  [57.142857142857146, 34.78260869565217, 33.333...  \n",
      "2      [100.0, 53.84615384615385, 45.45454545454545]  \n",
      "3      [52.63157894736842, 40.0, 38.095238095238095]  \n",
      "4  [83.33333333333333, 35.294117647058826, 34.782...  \n",
      "5       [91.66666666666667, 40.0, 38.46153846153846]  \n",
      "6      [100.0, 52.17391304347826, 46.15384615384615]  \n",
      "7     [100.0, 52.17391304347826, 41.666666666666664]  \n",
      "8  [91.66666666666667, 36.36363636363637, 35.7142...  \n",
      "9      [100.0, 46.15384615384615, 44.44444444444444]  \n"
     ]
    }
   ],
   "source": [
    "out = pd.DataFrame(rows, columns=[\n",
    "    \"Variation\", \"Best_Match\", \"Best_Score\", \"Top3_Names\", \"Top3_Scores\"\n",
    "])\n",
    "\n",
    "print(out.head(10))"
   ]
  },
  {
   "cell_type": "code",
   "execution_count": 6,
   "id": "4344a839",
   "metadata": {},
   "outputs": [
    {
     "name": "stdout",
     "output_type": "stream",
     "text": [
      "Accuracy: 1.0\n"
     ]
    }
   ],
   "source": [
    "if \"Matches_With_Base_Name\" in vari.columns:\n",
    "    eval_df = vari[[\"Variation\", \"Matches_With_Base_Name\"]].merge(\n",
    "        out[[\"Variation\", \"Best_Match\"]],\n",
    "        on=\"Variation\",\n",
    "        how=\"left\"\n",
    "    )\n",
    "    eval_df = eval_df.fillna(\"No Match\")\n",
    "    \n",
    "    acc = accuracy_score(eval_df[\"Matches_With_Base_Name\"], eval_df[\"Best_Match\"])\n",
    "    print(\"Accuracy:\", round(acc, 4))"
   ]
  }
 ],
 "metadata": {
  "kernelspec": {
   "display_name": "Python 3",
   "language": "python",
   "name": "python3"
  },
  "language_info": {
   "codemirror_mode": {
    "name": "ipython",
    "version": 3
   },
   "file_extension": ".py",
   "mimetype": "text/x-python",
   "name": "python",
   "nbconvert_exporter": "python",
   "pygments_lexer": "ipython3",
   "version": "3.12.6"
  }
 },
 "nbformat": 4,
 "nbformat_minor": 5
}
